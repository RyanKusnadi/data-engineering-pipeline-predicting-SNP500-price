{
  "cells": [
    {
      "cell_type": "code",
      "execution_count": null,
      "metadata": {
        "id": "wd1qyU2mdC24"
      },
      "outputs": [],
      "source": [
        "\n",
        "# For sending GET requests from the API\n",
        "import requests\n",
        "# For saving access tokens and for file management when creating and adding to the dataset\n",
        "import os\n",
        "# For dealing with json responses we receive from the API\n",
        "import json\n",
        "# For displaying the data after\n",
        "import pandas as pd\n",
        "# For saving the response data in CSV format\n",
        "import csv\n",
        "# For parsing the dates received from twitter in readable formats\n",
        "import datetime\n",
        "import dateutil.parser\n",
        "import unicodedata\n",
        "#To add wait time between requests\n",
        "import time"
      ]
    },
    {
      "cell_type": "code",
      "execution_count": null,
      "metadata": {
        "id": "mCLvEOlOdoVp"
      },
      "outputs": [],
      "source": [
        "os.environ['TOKEN'] = ''"
      ]
    },
    {
      "cell_type": "code",
      "execution_count": null,
      "metadata": {
        "id": "9sXWSiVkdtsQ"
      },
      "outputs": [],
      "source": [
        "def auth():\n",
        "    return os.getenv('TOKEN')"
      ]
    },
    {
      "cell_type": "code",
      "execution_count": null,
      "metadata": {
        "id": "G9OHm00vdwV-"
      },
      "outputs": [],
      "source": [
        "def create_headers(bearer_token):\n",
        "    headers = {\"Authorization\": \"Bearer {}\".format(bearer_token)}\n",
        "    return headers"
      ]
    },
    {
      "cell_type": "code",
      "execution_count": null,
      "metadata": {
        "id": "2FhwxU6gdzLj"
      },
      "outputs": [],
      "source": [
        "#params create_url diganti sesuai yang dibutuhkan thank u\n",
        "def create_url(keyword):\n",
        "    \n",
        "    search_url = \"https://api.twitter.com/2/tweets/counts/recent\" #Change to the endpoint you want to collect data from\n",
        "\n",
        "    #change params based on the endpoint you are using\n",
        "    #granularity: ngambil tweet count per hari nya\n",
        "    query_params = {'query': keyword,\n",
        "                    'granularity': 'day',\n",
        "                    #'start_time': start_date,\n",
        "                    #'end_time': end_date,\n",
        "                    #'max_results': max_results,\n",
        "                    #'expansions': 'author_id,in_reply_to_user_id,geo.place_id',\n",
        "                    #'tweet.fields': 'id,text,author_id,in_reply_to_user_id,geo,conversation_id,created_at,lang,public_metrics,referenced_tweets,reply_settings,source',\n",
        "                    #'user.fields': 'id,name,username,created_at,description,public_metrics,verified',\n",
        "                    #'place.fields': 'full_name,id,country,country_code,geo,name,place_type',\n",
        "                    #'next_token': {}\n",
        "                    }\n",
        "    return (search_url, query_params)"
      ]
    },
    {
      "cell_type": "code",
      "execution_count": null,
      "metadata": {
        "id": "mG3wzNmgfNUt"
      },
      "outputs": [],
      "source": [
        "def connect_to_endpoint(url, headers, params, next_token = None):\n",
        "    params['next_token'] = next_token   #params object received from create_url function\n",
        "    response = requests.request(\"GET\", url, headers = headers, params = params)\n",
        "    print(\"Endpoint Response Code: \" + str(response.status_code))\n",
        "    if response.status_code != 200:\n",
        "        raise Exception(response.status_code, response.text)\n",
        "    return response.json()"
      ]
    },
    {
      "cell_type": "code",
      "execution_count": null,
      "metadata": {
        "id": "kTOYT7m5fSW8"
      },
      "outputs": [],
      "source": [
        "#Inputs for the request\n",
        "bearer_token = auth()\n",
        "headers = create_headers(bearer_token)\n",
        "keyword = \"bitcoin eth ethereum price lang:en\"\n",
        "start_time = \"2022-11-21T14:40:21.000Z\"\n",
        "end_time = \"2022-11-27T14:32:21.000Z\"\n",
        "max_results = 100"
      ]
    },
    {
      "cell_type": "code",
      "execution_count": null,
      "metadata": {
        "colab": {
          "base_uri": "https://localhost:8080/"
        },
        "id": "FqoxZ-3tfgjx",
        "outputId": "d26e78a5-d563-4b6e-deac-1be5d78897f1"
      },
      "outputs": [
        {
          "name": "stdout",
          "output_type": "stream",
          "text": [
            "Endpoint Response Code: 200\n"
          ]
        }
      ],
      "source": [
        "url = create_url(keyword)\n",
        "json_response = connect_to_endpoint(url[0], headers, url[1])"
      ]
    },
    {
      "cell_type": "code",
      "execution_count": null,
      "metadata": {
        "colab": {
          "base_uri": "https://localhost:8080/"
        },
        "id": "pH6FsgtciAye",
        "outputId": "9bef6087-56da-49a8-fa30-7efe0f20445d"
      },
      "outputs": [
        {
          "name": "stdout",
          "output_type": "stream",
          "text": [
            "{\n",
            "    \"data\": [\n",
            "        {\n",
            "            \"end\": \"2022-11-22T00:00:00.000Z\",\n",
            "            \"start\": \"2022-11-21T03:48:35.000Z\",\n",
            "            \"tweet_count\": 2643\n",
            "        },\n",
            "        {\n",
            "            \"end\": \"2022-11-23T00:00:00.000Z\",\n",
            "            \"start\": \"2022-11-22T00:00:00.000Z\",\n",
            "            \"tweet_count\": 3138\n",
            "        },\n",
            "        {\n",
            "            \"end\": \"2022-11-24T00:00:00.000Z\",\n",
            "            \"start\": \"2022-11-23T00:00:00.000Z\",\n",
            "            \"tweet_count\": 3005\n",
            "        },\n",
            "        {\n",
            "            \"end\": \"2022-11-25T00:00:00.000Z\",\n",
            "            \"start\": \"2022-11-24T00:00:00.000Z\",\n",
            "            \"tweet_count\": 3335\n",
            "        },\n",
            "        {\n",
            "            \"end\": \"2022-11-26T00:00:00.000Z\",\n",
            "            \"start\": \"2022-11-25T00:00:00.000Z\",\n",
            "            \"tweet_count\": 3385\n",
            "        },\n",
            "        {\n",
            "            \"end\": \"2022-11-27T00:00:00.000Z\",\n",
            "            \"start\": \"2022-11-26T00:00:00.000Z\",\n",
            "            \"tweet_count\": 3111\n",
            "        },\n",
            "        {\n",
            "            \"end\": \"2022-11-28T00:00:00.000Z\",\n",
            "            \"start\": \"2022-11-27T00:00:00.000Z\",\n",
            "            \"tweet_count\": 3101\n",
            "        },\n",
            "        {\n",
            "            \"end\": \"2022-11-28T03:48:35.000Z\",\n",
            "            \"start\": \"2022-11-28T00:00:00.000Z\",\n",
            "            \"tweet_count\": 473\n",
            "        }\n",
            "    ],\n",
            "    \"meta\": {\n",
            "        \"total_tweet_count\": 22191\n",
            "    }\n",
            "}\n"
          ]
        }
      ],
      "source": [
        "print(json.dumps(json_response, indent=4, sort_keys=True))"
      ]
    },
    {
      "cell_type": "code",
      "execution_count": null,
      "metadata": {
        "colab": {
          "base_uri": "https://localhost:8080/",
          "height": 36
        },
        "id": "qPHlWxapjMah",
        "outputId": "9e94c7bf-29b8-48f8-fae0-3b1affc552ee"
      },
      "outputs": [
        {
          "data": {
            "application/vnd.google.colaboratory.intrinsic+json": {
              "type": "string"
            },
            "text/plain": [
              "'2022-11-27T14:31:41.000Z'"
            ]
          },
          "execution_count": 70,
          "metadata": {},
          "output_type": "execute_result"
        }
      ],
      "source": [
        "json_response['data'][0]['created_at']"
      ]
    },
    {
      "cell_type": "code",
      "execution_count": null,
      "metadata": {
        "id": "cr_ejMtnjlBP"
      },
      "outputs": [],
      "source": []
    },
    {
      "cell_type": "code",
      "execution_count": null,
      "metadata": {
        "id": "vlm9RGtQiu0d"
      },
      "outputs": [],
      "source": []
    }
  ],
  "metadata": {
    "colab": {
      "provenance": []
    },
    "kernelspec": {
      "display_name": "Python 3.9.13 ('base')",
      "language": "python",
      "name": "python3"
    },
    "language_info": {
      "name": "python",
      "version": "3.9.13"
    },
    "vscode": {
      "interpreter": {
        "hash": "4e1bbc5f9293c061b932d1e4097b113301ae2ea3e3ebef228b4728bad5653811"
      }
    }
  },
  "nbformat": 4,
  "nbformat_minor": 0
}
