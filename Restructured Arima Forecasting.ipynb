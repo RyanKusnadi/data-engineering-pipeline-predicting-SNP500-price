{
 "cells": [
  {
   "cell_type": "code",
   "execution_count": null,
   "metadata": {},
   "outputs": [],
   "source": [
    "#import related libraries\n",
    "import pandas as pd\n",
    "import numpy as np\n",
    "import seaborn as sns\n",
    "import matplotlib.pyplot as plt\n",
    "from IPython.core.interactiveshell import InteractiveShell\n",
    "InteractiveShell.ast_node_interactivity = \"all\"\n",
    "pd.set_option('display.max_columns', 200)\n",
    "pd.set_option('display.max_colwidth', 400)\n",
    "sns.set(context='notebook', style='whitegrid', rc={\"figure.figsize\": (18,4)})\n",
    "#visualization setting\n",
    "%matplotlib inline\n",
    "%config InlineBackend.figure_format = 'retina'\n",
    "from matplotlib import rcParams\n",
    "rcParams['figure.figsize'] = 18,4\n",
    "# to get rid of the unnecessary statsmodels package warnings\n",
    "import warnings\n",
    "warnings.filterwarnings(\"ignore\")\n",
    "# setting random seed for notebook reproducability\n",
    "rnd_seed=42\n",
    "np.random.seed=rnd_seed\n",
    "np.random.set_state=rnd_seed\n",
    "#import ARIMA library\n",
    "from pmdarima import auto_arima"
   ]
  },
  {
   "cell_type": "code",
   "execution_count": null,
   "metadata": {},
   "outputs": [],
   "source": [
    "dataset = pd.read_csv(\"SNP500Dataset.csv\")\n",
    "dataset = dataset.drop(columns=['Unnamed: 0'])  \n",
    "dataset.head()"
   ]
  },
  {
   "cell_type": "code",
   "execution_count": null,
   "metadata": {},
   "outputs": [],
   "source": [
    "dataset.isnull().values.any()"
   ]
  },
  {
   "cell_type": "code",
   "execution_count": null,
   "metadata": {},
   "outputs": [],
   "source": []
  },
  {
   "cell_type": "code",
   "execution_count": null,
   "metadata": {},
   "outputs": [],
   "source": [
    "#set the column 'Date' as the index of the dataframe\n",
    "dataset['Date'] = pd.to_datetime(dataset['Date'])\n",
    "dataset.set_index(keys=['Date'], drop=True, inplace=True)"
   ]
  },
  {
   "cell_type": "code",
   "execution_count": null,
   "metadata": {},
   "outputs": [],
   "source": [
    "#set 0 and negative values to 0.01 so that we can decompose the time series\n",
    "for i in dataset.columns:\n",
    "    dataset[i] = dataset[i].apply(lambda x : x if x > 0 else 0.01)"
   ]
  },
  {
   "cell_type": "code",
   "execution_count": null,
   "metadata": {},
   "outputs": [],
   "source": [
    "#note \n",
    "def forecast(timeseries_df, days_forecasted):\n",
    "    stepwise_model = auto_arima(timeseries_df, start_p=1, start_q=1,\n",
    "                           max_p=3, max_q=3, m=12,\n",
    "                           start_P=0, seasonal=True,\n",
    "                           d=1, D=1, trace=True,\n",
    "                           error_action='ignore',  \n",
    "                           suppress_warnings=True, \n",
    "                           stepwise=True) \n",
    "    print(\"Final Model's AIC=\", stepwise_model.aic())\n",
    "    future_forecast = stepwise_model.fit(timeseries_df).predict(n_periods=days_forecasted)\n",
    "    future_index = pd.date_range(start=timeseries_df.iloc[-1] + pd.DateOffset(days=1), periods=30, freq='MS')\n",
    "    future_forecast = pd.DataFrame(future_forecast, index=future_index, columns=['Prediction'])\n",
    "    pd.concat([timeseries_df, future_forecast], axis=1).plot()"
   ]
  }
 ],
 "metadata": {
  "kernelspec": {
   "display_name": "Python 3.9.13 ('base')",
   "language": "python",
   "name": "python3"
  },
  "language_info": {
   "name": "python",
   "version": "3.9.13"
  },
  "orig_nbformat": 4,
  "vscode": {
   "interpreter": {
    "hash": "4e1bbc5f9293c061b932d1e4097b113301ae2ea3e3ebef228b4728bad5653811"
   }
  }
 },
 "nbformat": 4,
 "nbformat_minor": 2
}
