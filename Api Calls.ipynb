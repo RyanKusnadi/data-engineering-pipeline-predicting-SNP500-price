{
 "cells": [
  {
   "cell_type": "code",
   "execution_count": 58,
   "metadata": {},
   "outputs": [],
   "source": [
    "import requests\n",
    "api_key = '9q6ctgp5t2h2n52n821ah17ey52kxju76wupxdxmprp1al0yy4oi1vb1bf4x'\n",
    "\n",
    "def call_high_low_api(access_key, symbol, date):\n",
    "    endpoint = 'open-high-low-close/'+date \n",
    "    base_currency = 'USD'\n",
    "    response_API = requests.get('https://commodities-api.com/api/'+endpoint+'?access_key='+access_key+'&base='+base_currency+'&symbols='+symbol)\n",
    "    return {\"high\" : 1/response_API.json()['rates']['high'], \"low\" : 1/response_API.json()['rates']['low']} \n",
    "\n",
    "def get_euro_exchange_rate(date):\n",
    "    endpoint = 'latest'\n",
    "    base_currency = 'USD'\n",
    "    response_API = requests.get('https://commodities-api.com/api/'+endpoint+'?access_key='+access_key+'&base='+base_currency+'&symbols='+symbol)\n",
    "    return {'EURO_To_USD_Rate': response_API.json()['data']['rates']['EUR']}\n",
    "\n",
    "def get_gold_price(date):\n",
    "    return call_high_low_api(api_key,'XAU', date)\n",
    "\n",
    "def get_oil_price(date):\n",
    "    return call_high_low_api(api_key,'WTIOIL', date)\n",
    "\n",
    "def get_bitcoin_price(date):\n",
    "    return call_high_low_api(api_key,'BTC', date)\n",
    "\n",
    "def get_US_federal_interest_rate(date):\n",
    "    BASE_URL= 'https://api.fiscaldata.treasury.gov/services/api/fiscal_service/'\n",
    "    ENDPOINT= 'v2/accounting/od/avg_interest_rates'\n",
    "    PARAM='?fields=avg_interest_rate_amt,record_date&filter=record_date:gte:'+date\n",
    "    FULL_URL= BASE_URL+ENDPOINT+PARAM\n",
    "    response_API = requests.get(FULL_URL)\n",
    "    response_API.status_code\n",
    "    return {'US_Interest_Rate':response_API.json()['data'][0]['avg_interest_rate_amt']}\n",
    "\n"
   ]
  },
  {
   "cell_type": "code",
   "execution_count": 52,
   "metadata": {},
   "outputs": [
    {
     "data": {
      "text/plain": [
       "{'high': 1746.4149999999897, 'low': 1763.6489535567293}"
      ]
     },
     "execution_count": 52,
     "metadata": {},
     "output_type": "execute_result"
    }
   ],
   "source": [
    "get_gold_price('2022-11-28') #tanggal h-1"
   ]
  },
  {
   "cell_type": "code",
   "execution_count": 53,
   "metadata": {},
   "outputs": [
    {
     "data": {
      "text/plain": [
       "{'high': 16067.594999992354, 'low': 16475.059999996243}"
      ]
     },
     "execution_count": 53,
     "metadata": {},
     "output_type": "execute_result"
    }
   ],
   "source": [
    "get_bitcoin_price('2022-11-28') #tanggal h-1"
   ]
  },
  {
   "cell_type": "code",
   "execution_count": 54,
   "metadata": {},
   "outputs": [
    {
     "data": {
      "text/plain": [
       "{'high': 73.66999999999874, 'low': 76.11999999999748}"
      ]
     },
     "execution_count": 54,
     "metadata": {},
     "output_type": "execute_result"
    }
   ],
   "source": [
    "get_oil_price('2022-11-28') #tanggal h-1"
   ]
  },
  {
   "cell_type": "code",
   "execution_count": 55,
   "metadata": {},
   "outputs": [
    {
     "data": {
      "text/plain": [
       "{'EUR': 0.95500182763085}"
      ]
     },
     "execution_count": 55,
     "metadata": {},
     "output_type": "execute_result"
    }
   ],
   "source": [
    "get_euro_exchange_rate('2022-11-28') #tanggal h-1"
   ]
  },
  {
   "cell_type": "code",
   "execution_count": 57,
   "metadata": {},
   "outputs": [
    {
     "data": {
      "text/plain": [
       "'0.478'"
      ]
     },
     "execution_count": 57,
     "metadata": {},
     "output_type": "execute_result"
    }
   ],
   "source": [
    "get_US_federal_interest_rate('2022-10-1') #inputnya tanggal 1 bulan lalu "
   ]
  }
 ],
 "metadata": {
  "kernelspec": {
   "display_name": "Python 3.9.13 ('base')",
   "language": "python",
   "name": "python3"
  },
  "language_info": {
   "codemirror_mode": {
    "name": "ipython",
    "version": 3
   },
   "file_extension": ".py",
   "mimetype": "text/x-python",
   "name": "python",
   "nbconvert_exporter": "python",
   "pygments_lexer": "ipython3",
   "version": "3.9.13"
  },
  "orig_nbformat": 4,
  "vscode": {
   "interpreter": {
    "hash": "4e1bbc5f9293c061b932d1e4097b113301ae2ea3e3ebef228b4728bad5653811"
   }
  }
 },
 "nbformat": 4,
 "nbformat_minor": 2
}
